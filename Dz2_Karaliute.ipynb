{
 "cells": [
  {
   "cell_type": "code",
   "execution_count": 1,
   "id": "8581bda7",
   "metadata": {},
   "outputs": [],
   "source": [
    "import numpy as np\n",
    "from scipy import stats"
   ]
  },
  {
   "cell_type": "markdown",
   "id": "86c8bc32",
   "metadata": {},
   "source": [
    "# Задача 1"
   ]
  },
  {
   "cell_type": "markdown",
   "id": "b43dc5c7",
   "metadata": {},
   "source": [
    "Пусть sample это наша выборка:"
   ]
  },
  {
   "cell_type": "code",
   "execution_count": 7,
   "id": "a2345796",
   "metadata": {},
   "outputs": [],
   "source": [
    "sample = np.array([12.9, 11.6, 13.5, 13.9, 12.1, 11.9, 13.0])"
   ]
  },
  {
   "cell_type": "markdown",
   "id": "af826e8e",
   "metadata": {},
   "source": [
    "Итак, для проверки воспользуемся одновыборочном критерием Стьюдента. Следует учесть, что данным критерием можно пользоваться, когда выборочное среднее имеет нормальное распределение. Так как для использования центральной предельной теоремы недостаточно наблюдений, то проверим имеют ли сами наблюдения нормальное распределение через критерий Шапиро-Уилка(где нулевая гипотеза состоит в том, что переменная распределена нормально):"
   ]
  },
  {
   "cell_type": "code",
   "execution_count": 8,
   "id": "009ea6ba",
   "metadata": {},
   "outputs": [
    {
     "data": {
      "text/plain": [
       "ShapiroResult(statistic=0.9461530447006226, pvalue=0.6946031451225281)"
      ]
     },
     "execution_count": 8,
     "metadata": {},
     "output_type": "execute_result"
    }
   ],
   "source": [
    "stats.shapiro(sample)"
   ]
  },
  {
   "cell_type": "markdown",
   "id": "de2f9237",
   "metadata": {},
   "source": [
    "Получили p-value=0.69, что больше 0.05, а следовательно, мы не можем отвергнуть нулевую гипотезу и напряжения батареек распределены нормально."
   ]
  },
  {
   "cell_type": "markdown",
   "id": "39efb137",
   "metadata": {},
   "source": [
    "Теперь сформулируем нулевую и альтернативную гипотезы для критерия Стьюдента:"
   ]
  },
  {
   "cell_type": "markdown",
   "id": "54e8a14b",
   "metadata": {},
   "source": [
    "* H0: Cреднее напряжение равно 12В (mu = 12)\n",
    "* H1: Среднее напряжение не равно 12В (mu ≠ 12)"
   ]
  },
  {
   "cell_type": "markdown",
   "id": "8b9cb01b",
   "metadata": {},
   "source": [
    "То есть:"
   ]
  },
  {
   "cell_type": "code",
   "execution_count": 6,
   "id": "d5b1ae1d",
   "metadata": {},
   "outputs": [],
   "source": [
    "mu0 = 12"
   ]
  },
  {
   "cell_type": "markdown",
   "id": "2b232192",
   "metadata": {},
   "source": [
    "Далее воспользуемся одновыборочным критерием Стьюдента для двухсторонней критической области:"
   ]
  },
  {
   "cell_type": "code",
   "execution_count": 9,
   "id": "e7848577",
   "metadata": {},
   "outputs": [
    {
     "data": {
      "text/plain": [
       "TtestResult(statistic=2.1578017974978794, pvalue=0.07430190210562304, df=6)"
      ]
     },
     "execution_count": 9,
     "metadata": {},
     "output_type": "execute_result"
    }
   ],
   "source": [
    "stats.ttest_1samp(sample, mu0, alternative='two-sided')"
   ]
  },
  {
   "cell_type": "markdown",
   "id": "2c0a56a7",
   "metadata": {},
   "source": [
    "Получили p-value=0.07, что больше 0.05, а следовательно, на уровне значимости 0.05 мы не можем отвергнуть нулевую гипотезу, то есть **среднее напряжение батареек действительно равно 12В**."
   ]
  },
  {
   "cell_type": "markdown",
   "id": "4ec05cc8",
   "metadata": {},
   "source": [
    "# Задача 2"
   ]
  },
  {
   "cell_type": "markdown",
   "id": "f07f4f82",
   "metadata": {},
   "source": [
    "Итак, в задаче представлены парные наблюдения, обозначим их sample2_1 и sample2_2:"
   ]
  },
  {
   "cell_type": "code",
   "execution_count": 6,
   "id": "6fd96b0e",
   "metadata": {},
   "outputs": [],
   "source": [
    "sample2_1 = np.array([23.1, 23.2, 26.5, 26.6, 27.1, 48.3, 40.5, 25.0, 38.4, 23.5])"
   ]
  },
  {
   "cell_type": "code",
   "execution_count": 7,
   "id": "7d0c70f9",
   "metadata": {},
   "outputs": [],
   "source": [
    "sample2_2 = np.array([22.7, 23.6, 27.1, 27.4, 27.4, 46.8, 40.4, 24.9, 38.1, 23.8])"
   ]
  },
  {
   "cell_type": "markdown",
   "id": "978e2fa6",
   "metadata": {},
   "source": [
    "Чтобы узнать, даёт ли один метод в среднем более высокие показания, чем другой, найдем попарно разницу между показаниями первого и второго метода:"
   ]
  },
  {
   "cell_type": "code",
   "execution_count": 8,
   "id": "0f8fefbd",
   "metadata": {},
   "outputs": [
    {
     "data": {
      "text/plain": [
       "array([-0.4,  0.4,  0.6,  0.8,  0.3, -1.5, -0.1, -0.1, -0.3,  0.3])"
      ]
     },
     "execution_count": 8,
     "metadata": {},
     "output_type": "execute_result"
    }
   ],
   "source": [
    "sample2_diff = sample2_2 - sample2_1\n",
    "sample2_diff"
   ]
  },
  {
   "cell_type": "markdown",
   "id": "e2bfcc32",
   "metadata": {},
   "source": [
    "Итак, если методы в среднем дают одинаковые результаты, то в среднем разница в показаниях равна нулю."
   ]
  },
  {
   "cell_type": "markdown",
   "id": "2eee28c0",
   "metadata": {},
   "source": [
    "Для проверки воспользуемся одновыборочном критерием Стьюдента. Для начала по критерию Шапиро-Уилка проверим, имеет ли наблюдение нормальное распределение:"
   ]
  },
  {
   "cell_type": "code",
   "execution_count": 12,
   "id": "e6fa65ac",
   "metadata": {
    "scrolled": true
   },
   "outputs": [
    {
     "data": {
      "text/plain": [
       "ShapiroResult(statistic=0.899848461151123, pvalue=0.21825818717479706)"
      ]
     },
     "execution_count": 12,
     "metadata": {},
     "output_type": "execute_result"
    }
   ],
   "source": [
    "stats.shapiro(sample2_diff)"
   ]
  },
  {
   "cell_type": "markdown",
   "id": "0453d17d",
   "metadata": {},
   "source": [
    "p-value=0.22 > 0.05, следовательно, на уровне значимости 0.05 мы не можем отвергнуть нулевую гипотезу, то есть наблюдение имеет нормальное распределение."
   ]
  },
  {
   "cell_type": "markdown",
   "id": "e410f0f9",
   "metadata": {},
   "source": [
    "Сформулируем нулевую и альтернативную гипотезы для критерия Стьюдента:"
   ]
  },
  {
   "cell_type": "markdown",
   "id": "78b0e8c9",
   "metadata": {},
   "source": [
    "* H0: Разница в показаниях равна 0 (mu_z = 0)\n",
    "* H1: Разница в показания не равна 0 (mu_z ≠ 0) "
   ]
  },
  {
   "cell_type": "code",
   "execution_count": 11,
   "id": "e2df16d4",
   "metadata": {},
   "outputs": [],
   "source": [
    "mu0_2 = 0"
   ]
  },
  {
   "cell_type": "markdown",
   "id": "ddb183fe",
   "metadata": {},
   "source": [
    "Далее снова воспользуемся одновыборочным критерием Стьюдента для двухсторонней критической области:"
   ]
  },
  {
   "cell_type": "code",
   "execution_count": 13,
   "id": "0140e692",
   "metadata": {},
   "outputs": [
    {
     "data": {
      "text/plain": [
       "TtestResult(statistic=-1.7154884978678027e-15, pvalue=0.9999999999999987, df=9)"
      ]
     },
     "execution_count": 13,
     "metadata": {},
     "output_type": "execute_result"
    }
   ],
   "source": [
    "stats.ttest_1samp(sample2_diff, mu0_2, alternative='two-sided')"
   ]
  },
  {
   "cell_type": "markdown",
   "id": "ee2d7379",
   "metadata": {},
   "source": [
    "Получили p-value=1, что больше 0.05, а следовательно, на уровне значимости 0.05 мы не можем отвергнуть нулевую гипотезу, то есть разница в показаниях двух методов равна 0 или, другими словами, **методы в среднем дают одинаковые показания**."
   ]
  },
  {
   "cell_type": "markdown",
   "id": "6d29d710",
   "metadata": {},
   "source": [
    "# Задача 3"
   ]
  },
  {
   "cell_type": "markdown",
   "id": "25828763",
   "metadata": {},
   "source": [
    "В задаче представлены независимые наблюдения уровня систолического артериального давления горожан и жителей села, обзначим их city_pressure и village_pressure соответственно:"
   ]
  },
  {
   "cell_type": "code",
   "execution_count": 2,
   "id": "35791260",
   "metadata": {},
   "outputs": [],
   "source": [
    "city_pressure = np.array([132, 111, 119, 138, 200, 131, 138, 170, 159, 140])\n",
    "village_pressure = np.array([115, 190, 127, 155, 148, 121, 116, 121, 197])"
   ]
  },
  {
   "cell_type": "markdown",
   "id": "606e80b7",
   "metadata": {},
   "source": [
    "Чтобы воспользоваться критерием Стьюдента, проверим, имеют ли дисперсии в двух выборках значимые различия по критерию Левене (нулевая гипотеза состоит в том, что дисперсии не имеют значимых различий):"
   ]
  },
  {
   "cell_type": "code",
   "execution_count": 3,
   "id": "3d4b2e66",
   "metadata": {},
   "outputs": [
    {
     "data": {
      "text/plain": [
       "LeveneResult(statistic=0.3974576250414972, pvalue=0.5367886818028731)"
      ]
     },
     "execution_count": 3,
     "metadata": {},
     "output_type": "execute_result"
    }
   ],
   "source": [
    "stats.levene(city_pressure, village_pressure)"
   ]
  },
  {
   "cell_type": "markdown",
   "id": "515209ba",
   "metadata": {},
   "source": [
    "Итак, p-value=0.54, что больше 0.05, значит на уровне значимости 0.05 мы не можем отвергнуть нулевую гипотезу и считаем, что дисперсии в двух выборках не имеют значимых различий."
   ]
  },
  {
   "cell_type": "markdown",
   "id": "4da8f9f7",
   "metadata": {},
   "source": [
    "Далее, проверим, имеют ли сами наблюдения нормальное распределение через критерий Шапиро-Уилка(где нулевая гипотеза состоит в том, что переменная распределена нормально):"
   ]
  },
  {
   "cell_type": "code",
   "execution_count": 19,
   "id": "48cfbc60",
   "metadata": {
    "scrolled": true
   },
   "outputs": [
    {
     "data": {
      "text/plain": [
       "ShapiroResult(statistic=0.9100654125213623, pvalue=0.2814405560493469)"
      ]
     },
     "execution_count": 19,
     "metadata": {},
     "output_type": "execute_result"
    }
   ],
   "source": [
    "stats.shapiro(city_pressure)"
   ]
  },
  {
   "cell_type": "markdown",
   "id": "536ef76a",
   "metadata": {},
   "source": [
    "p-value=0.28 > 0.05, значит считаем, что давление горожан распределено нормально."
   ]
  },
  {
   "cell_type": "code",
   "execution_count": 20,
   "id": "894cfd3e",
   "metadata": {
    "scrolled": false
   },
   "outputs": [
    {
     "data": {
      "text/plain": [
       "ShapiroResult(statistic=0.828664243221283, pvalue=0.043139804154634476)"
      ]
     },
     "execution_count": 20,
     "metadata": {},
     "output_type": "execute_result"
    }
   ],
   "source": [
    "stats.shapiro(village_pressure)"
   ]
  },
  {
   "cell_type": "markdown",
   "id": "b1531fb3",
   "metadata": {},
   "source": [
    "p-value=0.04 < 0.05, значит на уровне значимости 0.05 отвергаем нулевую гипотезу и считаем, что давление жителей села не имеет нормального распределения."
   ]
  },
  {
   "cell_type": "markdown",
   "id": "569618d1",
   "metadata": {},
   "source": [
    "Так как один из наборов данных не имеет нормального распределения, то нельзя воспользоваться критерием Стьюдента для независимых групп. Поэтому воспользуемся критерием Манна-Уитни, для которого не нужно нормальное распределение."
   ]
  },
  {
   "cell_type": "markdown",
   "id": "a9320d49",
   "metadata": {},
   "source": [
    "Чтобы узнать, можно ли считать на уровне значимости 0.05 верной гипотезу о том, что жители городов имеют в среднем более высокое систолическое артериальное давление, чем жители сельской местности, сформулируем соответствующие нулевую и альтернативную гипотезы:"
   ]
  },
  {
   "cell_type": "markdown",
   "id": "7a983308",
   "metadata": {},
   "source": [
    "* H0: жители городов имеют в среднем такое же систолическое артериальное давление, как и жители сельской местности \n",
    "* H1: жители городов имеют в среднем более высокое систолическое артериальное давление, чем жители сельской местности "
   ]
  },
  {
   "cell_type": "code",
   "execution_count": 7,
   "id": "b917f4cc",
   "metadata": {},
   "outputs": [
    {
     "data": {
      "text/plain": [
       "MannwhitneyuResult(statistic=50.0, pvalue=0.3565312487796153)"
      ]
     },
     "execution_count": 7,
     "metadata": {},
     "output_type": "execute_result"
    }
   ],
   "source": [
    "stats.mannwhitneyu(city_pressure, village_pressure, alternative='greater')\n"
   ]
  },
  {
   "cell_type": "markdown",
   "id": "e8168d0b",
   "metadata": {},
   "source": [
    "Получили p-value=0.36 > 0.05, а значит, что на уровне значимости 0.05 мы не можем отвергнуть нулевую гипотезу, то есть **жители городов имеют в среднем такое же систолическое артериальное давление, как и жители сельской местности**."
   ]
  },
  {
   "cell_type": "markdown",
   "id": "aa29faab",
   "metadata": {},
   "source": [
    "# Задача 4"
   ]
  },
  {
   "cell_type": "markdown",
   "id": "d2444eb6",
   "metadata": {},
   "source": [
    "Чтобы понять, можно ли на уровне значимости 0,05 считать, что смертность среди мужчин и женщин одинакова, воспользуемся биноминальным тестом: если смертность между мужчинами и женщинами одинакова, то нет разницы между долей новорожденных мальчиков и долей мужчин в представленной выборке."
   ]
  },
  {
   "cell_type": "markdown",
   "id": "2d7784b7",
   "metadata": {},
   "source": [
    "Сформулируем нулевую и альтернативную гипотезы:"
   ]
  },
  {
   "cell_type": "markdown",
   "id": "63d8a33b",
   "metadata": {},
   "source": [
    "* H0: нет разницы между долей новорожденных мальчиков и долей мужчин в представленной выборке \n",
    "* H1: есть разница между долей новорожденных мальчиков и долей мужчин в представленной выборке"
   ]
  },
  {
   "cell_type": "markdown",
   "id": "25e817fe",
   "metadata": {},
   "source": [
    "Итак, воспользуемся биноминальным тестом с ожидаемой вероятностью события 0.52 (=52%):"
   ]
  },
  {
   "cell_type": "code",
   "execution_count": 6,
   "id": "547b8c6b",
   "metadata": {},
   "outputs": [
    {
     "data": {
      "text/plain": [
       "0.0048495021595452836"
      ]
     },
     "execution_count": 6,
     "metadata": {},
     "output_type": "execute_result"
    }
   ],
   "source": [
    "stats.binomtest(2500, 5000, 0.52).pvalue"
   ]
  },
  {
   "cell_type": "markdown",
   "id": "eddc1c10",
   "metadata": {},
   "source": [
    "p-value=0.005, что меньше 0.05, следовательно, на уровне значимости 0.05 нулевая гипотеза отвергается в пользу альтернативной, то есть имеется разница между долей новорожденных мальчиков и долей мужчин в представленной выборке, другими словами, **смертность между мужчинами и женщинами неодинакова**."
   ]
  },
  {
   "cell_type": "markdown",
   "id": "24f81816",
   "metadata": {},
   "source": [
    "# Задача 5"
   ]
  },
  {
   "cell_type": "markdown",
   "id": "941a747c",
   "metadata": {},
   "source": [
    "Причина таких результатов, при условии, что нулевая и альтернативная гипотезы в обоих случаях одинаковы, может быть в том, что:\n",
    "* в первом случае дисперсия могла быть маленькой, то есть даже небольшая разница между средними стала бы значимой, а во втором случае дисперсия могла быть, наоборот, очень высокой.\n",
    "* в первом случае размеры выборок могли быть очень большими, что также бы сделало небольшую разницу в средних статистически значимой, так как большие выборки дают узкие доверительные интервалы, а во втором случае, напротив, размеры выборок сильно меньше, что снизило бы мощность теста и привело к отсутствию значимости, даже при большой разнице средних."
   ]
  },
  {
   "cell_type": "code",
   "execution_count": null,
   "id": "5d7cc0d4",
   "metadata": {},
   "outputs": [],
   "source": []
  }
 ],
 "metadata": {
  "kernelspec": {
   "display_name": "Python 3 (ipykernel)",
   "language": "python",
   "name": "python3"
  },
  "language_info": {
   "codemirror_mode": {
    "name": "ipython",
    "version": 3
   },
   "file_extension": ".py",
   "mimetype": "text/x-python",
   "name": "python",
   "nbconvert_exporter": "python",
   "pygments_lexer": "ipython3",
   "version": "3.11.5"
  }
 },
 "nbformat": 4,
 "nbformat_minor": 5
}
